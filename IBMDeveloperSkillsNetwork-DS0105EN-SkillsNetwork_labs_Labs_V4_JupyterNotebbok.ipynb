{
  "metadata": {
    "language_info": {
      "codemirror_mode": {
        "name": "python",
        "version": 3
      },
      "file_extension": ".py",
      "mimetype": "text/x-python",
      "name": "python",
      "nbconvert_exporter": "python",
      "pygments_lexer": "ipython3",
      "version": "3.8"
    },
    "kernelspec": {
      "name": "python",
      "display_name": "Pyolite",
      "language": "python"
    }
  },
  "nbformat_minor": 4,
  "nbformat": 4,
  "cells": [
    {
      "cell_type": "markdown",
      "source": "# JUPYTER NOTEBOOK",
      "metadata": {}
    },
    {
      "cell_type": "markdown",
      "source": "In this notebook you will find my Final Assignment.",
      "metadata": {}
    },
    {
      "cell_type": "markdown",
      "source": "Data Science Languages\n```\n1. Python\n2. Java\n3. C++\n4. C  \n5. R\n```",
      "metadata": {}
    },
    {
      "cell_type": "markdown",
      "source": "Data Science Libraries\n\n```\n1. Numpy\n2. Pandas\n3. matplotlib\n4. sklearn\n\n```",
      "metadata": {}
    },
    {
      "cell_type": "markdown",
      "source": "Data Science Tools\n\n| | Tools | \n| ------ | ------ | \n| 1. | SQL |\n| 2. | Jupyter Notebooks |\n| 3. | Pandas |\n| 4. | Anaconda |\n   \n",
      "metadata": {}
    },
    {
      "cell_type": "markdown",
      "source": "Introducing Arithmetic Expressions\n```python\n(20+5)*4\n\n```",
      "metadata": {}
    },
    {
      "cell_type": "code",
      "source": "2 * 2",
      "metadata": {
        "trusted": true
      },
      "execution_count": 1,
      "outputs": [
        {
          "execution_count": 1,
          "output_type": "execute_result",
          "data": {
            "text/plain": "4"
          },
          "metadata": {}
        }
      ]
    },
    {
      "cell_type": "code",
      "source": "2 + 2",
      "metadata": {
        "trusted": true
      },
      "execution_count": 2,
      "outputs": [
        {
          "execution_count": 2,
          "output_type": "execute_result",
          "data": {
            "text/plain": "4"
          },
          "metadata": {}
        }
      ]
    },
    {
      "cell_type": "code",
      "source": "\n total_min == 4892 \n min = total_min  % 60 \n hrs = (total_min - min) / 60 \n print (\"hours = %d min = %d\" % (hrs, min))\n",
      "metadata": {
        "trusted": true
      },
      "execution_count": 18,
      "outputs": [
        {
          "name": "stdout",
          "text": "hours = 81 min = 32\n",
          "output_type": "stream"
        }
      ]
    },
    {
      "cell_type": "code",
      "source": "",
      "metadata": {},
      "execution_count": null,
      "outputs": []
    },
    {
      "cell_type": "markdown",
      "source": "## Author ",
      "metadata": {}
    },
    {
      "cell_type": "markdown",
      "source": "Federica Bournissen",
      "metadata": {}
    },
    {
      "cell_type": "markdown",
      "source": "| Date | Version | \n| ------ | ------ | \n| 2023-06-18 | 0.1 |",
      "metadata": {}
    },
    {
      "cell_type": "code",
      "source": "",
      "metadata": {},
      "execution_count": null,
      "outputs": []
    }
  ]
}